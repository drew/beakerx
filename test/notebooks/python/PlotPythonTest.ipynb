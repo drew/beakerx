{
 "cells": [
  {
   "cell_type": "code",
   "execution_count": 1,
   "metadata": {},
   "outputs": [
    {
     "data": {
      "application/vnd.jupyter.widget-view+json": {
       "model_id": "974440f1481d42219fce310e799d7f39",
       "version_major": 2,
       "version_minor": 0
      }
     },
     "metadata": {},
     "output_type": "display_data"
    }
   ],
   "source": [
    "from beakerx import *\n",
    "Plot(title=\"test title\",\n",
    "     xLabel=\"x label\",\n",
    "     yLabel=\"y label\")"
   ]
  },
  {
   "cell_type": "code",
   "execution_count": 2,
   "metadata": {},
   "outputs": [
    {
     "data": {
      "application/vnd.jupyter.widget-view+json": {
       "model_id": "c6c73f8e88d24653ace9bdaac1c15027",
       "version_major": 2,
       "version_minor": 0
      }
     },
     "metadata": {},
     "output_type": "display_data"
    }
   ],
   "source": [
    "plot1 = Plot()\n",
    "plot1.add(Bars(displayName=\"Bar\", \n",
    "       x=[20,40,60], \n",
    "       y=[100, 120, 90], \n",
    "       width=10))"
   ]
  },
  {
   "cell_type": "code",
   "execution_count": 3,
   "metadata": {},
   "outputs": [
    {
     "data": {
      "application/vnd.jupyter.widget-view+json": {
       "model_id": "793f14e58bbb4ef4a503afb91ee6f9d0",
       "version_major": 2,
       "version_minor": 0
      }
     },
     "metadata": {},
     "output_type": "display_data"
    }
   ],
   "source": [
    "plot2 = Plot()\n",
    "plot2.add(Line(x=[1, 5, 3], y=[1, 2, 6]))"
   ]
  },
  {
   "cell_type": "code",
   "execution_count": 4,
   "metadata": {},
   "outputs": [
    {
     "data": {
      "application/vnd.jupyter.widget-view+json": {
       "model_id": "0a71e21aa7cf4e9fa03888866e4a6c80",
       "version_major": 2,
       "version_minor": 0
      }
     },
     "metadata": {},
     "output_type": "display_data"
    }
   ],
   "source": [
    "plot3 = Plot()\n",
    "plot3.add(Points(y=[1, 3, 6, 3, 1], \n",
    "              x=[1, 2, 3, 4, 5], \n",
    "              size=10, \n",
    "              shape=ShapeType.DIAMOND))"
   ]
  },
  {
   "cell_type": "code",
   "execution_count": 5,
   "metadata": {},
   "outputs": [
    {
     "data": {
      "application/vnd.jupyter.widget-view+json": {
       "model_id": "6ade14925cae4737a97e118a0e6e5339",
       "version_major": 2,
       "version_minor": 0
      }
     },
     "metadata": {},
     "output_type": "display_data"
    }
   ],
   "source": [
    "plot4 = Plot();\n",
    "plot4.add(Stems(y= [1.5, 1, 6, 5]))"
   ]
  },
  {
   "cell_type": "code",
   "execution_count": 6,
   "metadata": {},
   "outputs": [
    {
     "data": {
      "application/vnd.jupyter.widget-view+json": {
       "model_id": "9d4949293ac74233b406270b8af64468",
       "version_major": 2,
       "version_minor": 0
      }
     },
     "metadata": {},
     "output_type": "display_data"
    }
   ],
   "source": [
    "plot5 = Plot(crosshair = Crosshair())\n",
    "plot5.add(Area(x = [0, 1, 2, 3], y = [3, 5, 2, 3]))"
   ]
  },
  {
   "cell_type": "code",
   "execution_count": 7,
   "metadata": {},
   "outputs": [
    {
     "data": {
      "application/vnd.jupyter.widget-view+json": {
       "model_id": "6efb764c6f4b4ef69ce8b4d22a7ea482",
       "version_major": 2,
       "version_minor": 0
      }
     },
     "metadata": {},
     "output_type": "display_data"
    }
   ],
   "source": [
    "Plot().add(ConstantLine(y=0.1)).add(ConstantLine(x=0.3, y=0.4, color=Color.gray, showLabel=True))"
   ]
  },
  {
   "cell_type": "code",
   "execution_count": 8,
   "metadata": {},
   "outputs": [
    {
     "data": {
      "application/vnd.jupyter.widget-view+json": {
       "model_id": "292e0f67d67f4838b92f7cb8af4c6c45",
       "version_major": 2,
       "version_minor": 0
      }
     },
     "metadata": {},
     "output_type": "display_data"
    }
   ],
   "source": [
    "Plot().add(Line(y=[-3, 1, 3, 4, 5])).add(ConstantBand(x=[1, 2], y=[1, 3]))"
   ]
  },
  {
   "cell_type": "code",
   "execution_count": 9,
   "metadata": {},
   "outputs": [
    {
     "data": {
      "application/vnd.jupyter.widget-view+json": {
       "model_id": "0ce79e396b8a4b2d9e3f6108419c1dae",
       "version_major": 2,
       "version_minor": 0
      }
     },
     "metadata": {},
     "output_type": "display_data"
    }
   ],
   "source": [
    "from beakerx.plot import Text as BeakerxText\n",
    "plot = Plot()\n",
    "xs = [1, 2, 3, 4]\n",
    "ys = [8.6, 6.1, 7.4, 2.5]\n",
    "\n",
    "for i in range(0, 4):\n",
    "    plot.add(BeakerxText(x= xs[i], y= ys[i], text= 'test'))\n",
    "\n",
    "plot.add(Line(x= xs, y= ys))"
   ]
  },
  {
   "cell_type": "code",
   "execution_count": 10,
   "metadata": {},
   "outputs": [
    {
     "data": {
      "application/vnd.jupyter.widget-view+json": {
       "model_id": "0b564de67d5c4c9787fa33643d5e746e",
       "version_major": 2,
       "version_minor": 0
      }
     },
     "metadata": {},
     "output_type": "display_data"
    }
   ],
   "source": [
    "import pandas as pd\n",
    "\n",
    "tableRows = pd.read_csv('../../../doc/contents/resources/data/interest-rates.csv')\n",
    "pp1 = Plot()\n",
    "pp1.add(Bars(y=tableRows.y1))"
   ]
  },
  {
   "cell_type": "code",
   "execution_count": 11,
   "metadata": {},
   "outputs": [
    {
     "data": {
      "application/vnd.jupyter.widget-view+json": {
       "model_id": "fecc2532520d48738400e8839b11465f",
       "version_major": 2,
       "version_minor": 0
      }
     },
     "metadata": {},
     "output_type": "display_data"
    }
   ],
   "source": [
    "pp2 = Plot()\n",
    "pp2.add(Line(\n",
    "        x=pd.Series([10, 20, 30, 40, 50, 60, 70]), \n",
    "        y=pd.Series([0, 60, 10, 50, 20, 40, 30]), \n",
    "        width=5))"
   ]
  },
  {
   "cell_type": "code",
   "execution_count": 12,
   "metadata": {},
   "outputs": [
    {
     "data": {
      "application/vnd.jupyter.widget-view+json": {
       "model_id": "c0b611029dbd42419abce141e4858048",
       "version_major": 2,
       "version_minor": 0
      }
     },
     "metadata": {},
     "output_type": "display_data"
    }
   ],
   "source": [
    "y1 = [1,5,3,2,3]\n",
    "y2 = [1,2,4,1,3]\n",
    "p = Plot()\n",
    "a1 = Area(y=y1, displayName='y1')\n",
    "a2 = Area(y=y2, displayName='y2')\n",
    "stacker = XYStacker()\n",
    "p.add(stacker.stack([a1, a2]))"
   ]
  },
  {
   "cell_type": "code",
   "execution_count": 13,
   "metadata": {},
   "outputs": [
    {
     "data": {
      "application/vnd.jupyter.widget-view+json": {
       "model_id": "152d48bd35264d498f4915cd74b3d098",
       "version_major": 2,
       "version_minor": 0
      }
     },
     "metadata": {},
     "output_type": "display_data"
    }
   ],
   "source": [
    "SimpleTimePlot(tableRows, [\"y1\", \"y10\"], # column names\n",
    "               timeColumn=\"time\", # time is default value for a timeColumn\n",
    "               displayNames=[\"1 Year\", \"10 Year\"])"
   ]
  },
  {
   "cell_type": "code",
   "execution_count": 14,
   "metadata": {},
   "outputs": [
    {
     "data": {
      "application/vnd.jupyter.widget-view+json": {
       "model_id": "43cfff14507e4ff388ad675529fdf36d",
       "version_major": 2,
       "version_minor": 0
      }
     },
     "metadata": {},
     "output_type": "display_data"
    }
   ],
   "source": [
    "import time\n",
    "\n",
    "millis = 1507541201624;\n",
    "hour = round(1000 * 60 * 60);\n",
    "xs = [];\n",
    "ys = [];\n",
    "for i in range(11):\n",
    "    xs.append(millis + hour * i);\n",
    "    ys.append(i);\n",
    "\n",
    "plot = TimePlot(timeZone=\"America/New_York\")\n",
    "# list of milliseconds\n",
    "plot.add(Points(x=xs, y=ys))"
   ]
  },
  {
   "cell_type": "code",
   "execution_count": 15,
   "metadata": {},
   "outputs": [
    {
     "data": {
      "application/vnd.jupyter.widget-view+json": {
       "model_id": "e7c65c237064402f9d35bb5a2da99c6f",
       "version_major": 2,
       "version_minor": 0
      }
     },
     "metadata": {},
     "output_type": "display_data"
    }
   ],
   "source": [
    "millis = millis = 1507541201624;\n",
    "nanos  = millis * 1000 * 1000\n",
    "xs = []\n",
    "ys = []\n",
    "for i in range(11):\n",
    "    xs.append(nanos + 7 * i)\n",
    "    ys.append(i);\n",
    "\n",
    "np = NanoPlot()\n",
    "np.add(Points(x=xs, y=ys))"
   ]
  },
  {
   "cell_type": "code",
   "execution_count": 16,
   "metadata": {},
   "outputs": [
    {
     "data": {
      "application/vnd.jupyter.widget-view+json": {
       "model_id": "42d23f34f1cc4fbbab0336d47ce2744c",
       "version_major": 2,
       "version_minor": 0
      }
     },
     "metadata": {},
     "output_type": "display_data"
    }
   ],
   "source": [
    "sp = Plot()\n",
    "sp.add(YAxis(label= \"Test y axis\"))\n",
    "sp.add(Line(\n",
    "        x=pd.Series([10, 20, 30, 40, 50, 60, 70]), \n",
    "        y=pd.Series([0, 60, 10, 50, 20, 40, 30])))\n",
    "sp.add(Line(\n",
    "        x=pd.Series([5, 15, 25, 35, 45, 55, 65]), \n",
    "        y=pd.Series([5, 65, 15, 55, 25, 45, 35]), yAxis= \"Test y axis\"))"
   ]
  },
  {
   "cell_type": "code",
   "execution_count": 17,
   "metadata": {},
   "outputs": [
    {
     "data": {
      "application/vnd.jupyter.widget-view+json": {
       "model_id": "3579816624964978955ff1e7251b8be1",
       "version_major": 2,
       "version_minor": 0
      }
     },
     "metadata": {},
     "output_type": "display_data"
    }
   ],
   "source": [
    "import math\n",
    "points = 100;\n",
    "xs = [];\n",
    "for i in range(0, points):\n",
    "  xs.append(i)\n",
    "\n",
    "cplot = CombinedPlot(xLabel= \"CombinedPlot\");\n",
    "\n",
    "linearPlot = Plot(title= \"Linear x, Linear y\");\n",
    "linearPlot.add(Line(x= xs, y= xs));\n",
    "cplot.add(linearPlot, 3);\n",
    "\n",
    "logYPlot = Plot(logY= True, logX=False, title= \"Linear x, Log y\");\n",
    "logYPlot.add(Line(x= xs, y= xs));\n",
    "cplot.add(logYPlot, 3);\n",
    "\n",
    "logYPlot = Plot(logY= False, logX=True, title= \"Log x, Linear y\");\n",
    "logYPlot.add(Line(x= xs, y= xs));\n",
    "cplot.add(logYPlot, 3);\n",
    "\n",
    "cplot\n"
   ]
  },
  {
   "cell_type": "code",
   "execution_count": null,
   "metadata": {},
   "outputs": [],
   "source": []
  }
 ],
 "metadata": {
  "kernelspec": {
   "display_name": "Python 3",
   "language": "python",
   "name": "python3"
  },
  "language_info": {
   "codemirror_mode": {
    "name": "ipython",
    "version": 3
   },
   "file_extension": ".py",
   "mimetype": "text/x-python",
   "name": "python",
   "nbconvert_exporter": "python",
   "pygments_lexer": "ipython3",
   "version": "3.5.4"
  }
 },
 "nbformat": 4,
 "nbformat_minor": 1
}
